{
 "cells": [
  {
   "cell_type": "code",
   "execution_count": 1,
   "metadata": {
    "id": "EDkJxN5muM_3"
   },
   "outputs": [],
   "source": [
    "import pandas as pd\n",
    "import json\n",
    "import re\n",
    "import warnings\n",
    "warnings.filterwarnings('ignore')\n"
   ]
  },
  {
   "cell_type": "markdown",
   "metadata": {},
   "source": [
    "# استخراج داده ها\n"
   ]
  },
  {
   "cell_type": "markdown",
   "metadata": {},
   "source": [
    "<div dir=\"rtl\" style=\"text-align: right;\">\n",
    "تابع زیر از فایل های json ابتدایی ما فیچر هایی را استخراج میکند\n",
    "در این پروژه ابتدا فیچر ها انتخاب شده و سپس با روش backward Elimination فیچر های کم اهمیت حذف شده\n",
    "\n",
    "</div>"
   ]
  },
  {
   "cell_type": "code",
   "execution_count": 2,
   "metadata": {
    "id": "YqLYnxUPC2QX"
   },
   "outputs": [],
   "source": [
    "def extract_features_from_dataset(df):\n",
    "    # این تابع بررسی میکند ایا موبایل از اینترنت نسل چهار استفاده میکند یا خیر\n",
    "    df[\"4G\"] = df[\"Network\"].apply(            \n",
    "        lambda x: any(\"4G bands\" in item for item in x) if isinstance(x, list) else False   \n",
    "    )\n",
    "    # این تابع بررسی میکند ایا موبایل از اینترنت نسل پنج استفاده میکند یا خیر\n",
    "\n",
    "    df[\"5G\"] = df[\"Network\"].apply(\n",
    "        lambda x: any(\"5G bands\" in item for item in x) if isinstance(x, list) else False\n",
    "    )\n",
    "    # تاریخ معرفی موبایل را استخراج میکند\n",
    "    df[\"Announced\"] = df[\"Launch\"].apply(\n",
    "        lambda x: x[0].get(\"Announced\") if isinstance(x, list) and len(x) > 0 and isinstance(x[0], dict) else None\n",
    "    )\n",
    "    # وضعیت موجودی آن در بازار را استخراج میکند\n",
    "    df[\"Status\"] = df[\"Launch\"].apply(\n",
    "        lambda x: x[1].get(\"Status\") if isinstance(x, list) and len(x) > 1 and isinstance(x[1], dict) else None\n",
    "    )\n",
    "\n",
    "    #مشخصات فیزیکی محصول\n",
    "\n",
    "    df[\"Weight\"] = df[\"Body\"].apply(\n",
    "        lambda x: x[1].get(\"Weight\") if isinstance(x, list) and len(x) > 1 and isinstance(x[1], dict) else None\n",
    "    )\n",
    "    df[\"Length\"] = df[\"Body\"].apply(\n",
    "        lambda x: x[0].get(\"Dimensions\").split(\" x \")[0]\n",
    "        if isinstance(x, list) and len(x) > 0 and \"Dimensions\" in x[0] and len(x[0][\"Dimensions\"].split(\" x \")) > 0 else None\n",
    "    )\n",
    "    df[\"Width\"] = df[\"Body\"].apply(\n",
    "        lambda x: x[0].get(\"Dimensions\").split(\" x \")[1]\n",
    "        if isinstance(x, list) and len(x) > 0 and \"Dimensions\" in x[0] and len(x[0][\"Dimensions\"].split(\" x \")) > 1 else None\n",
    "    )\n",
    "    df[\"Diameter\"] = df[\"Body\"].apply(\n",
    "        lambda x: x[0].get(\"Dimensions\").split(\" x \")[2].split()[0]\n",
    "        if isinstance(x, list) and len(x) > 0 and \"Dimensions\" in x[0] and len(x[0][\"Dimensions\"].split(\" x \")) > 2 else None\n",
    "    )\n",
    "    # ایا گوشی ضد آب هست یا خیر\n",
    "    df[\"Has IP68\"] = df[\"Body\"].apply(\n",
    "        lambda x: \"IP68\" in str(x) if isinstance(x, list) else False\n",
    "    )\n",
    "    '''\n",
    "    استخراج باتری با رجکس\n",
    "    (\\d+) عبارت منظمی که به دنبال حداقل یک رشته ای از اعداد میگردد\n",
    "    \\s*   به معنی فضای خالی با بستار ستاره به معنی شروع از صفر\n",
    "    mAh  که در تمام مشخصات موبایل به این شکل امده است\n",
    "    .group(1) اولین گروه پرانتز گذاری شده را برمیگرداند\n",
    "\n",
    "    '''\n",
    "    df[\"Battery_capacity\"] = df[\"Battery\"].apply(\n",
    "        lambda x: int(re.search(r\"(\\d+)\\s*mAh\", x[0].get(\"Type\")).group(1))\n",
    "        if isinstance(x, list) and len(x) > 0 and \"Type\" in x[0] and re.search(r\"(\\d+)\\s*mAh\", x[0].get(\"Type\"))\n",
    "        else None\n",
    "    )\n",
    "\n",
    "    #نوع تکنولوژی صفحه نمایش را برمیگرداند \n",
    "    df[\"Display Type\"] = df[\"Display\"].apply(\n",
    "        lambda x: x[0].get(\"Type\").split()[0]\n",
    "        if isinstance(x, list) and len(x) > 0 and \"Type\" in x[0] else None\n",
    "    )\n",
    "    # سایز نمایشگر\n",
    "    def extract_display_size(x):\n",
    "        try:\n",
    "            if isinstance(x, list) and len(x) > 1 and \"Size\" in x[1]:\n",
    "                size_str = x[1][\"Size\"].split()[0]\n",
    "                if size_str.replace(\".\", \"\", 1).isdigit():\n",
    "                    return float(size_str)\n",
    "            return None\n",
    "        except (IndexError, ValueError):\n",
    "            return None\n",
    "    df[\"Display Size\"] = df[\"Display\"].apply(extract_display_size)\n",
    "    \n",
    "    # رزولیشن نمایشگر را برمیگرداند\n",
    "    df[\"Resolution\"] = df[\"Display\"].apply(\n",
    "        lambda x: x[2].get(\"Resolution\").split(\" pixels\")[0]\n",
    "        if isinstance(x, list) and len(x) > 2 and \"Resolution\" in x[2] and isinstance(x[2][\"Resolution\"], str) else None\n",
    "    )\n",
    "    # فیچری به معنای نسبت صفحه نمایش به کل بدنه به درصد\n",
    "    df[\"Body Ratio\"] = df[\"Display\"].apply(\n",
    "        lambda x: x[1].get(\"Size\").split(\"~\")[1].split(\"%\")[0]\n",
    "        if isinstance(x, list) and len(x) > 1 and \"Size\" in x[1] and \"~\" in x[1][\"Size\"] else None\n",
    "    )\n",
    "    # تراکم پیکسلی\n",
    "    df[\"PPI\"] = df[\"Display\"].apply(\n",
    "        lambda x: x[2][\"Resolution\"].split(\"~\")[1].split()[0]\n",
    "        if isinstance(x, list) and len(x) > 2 and \"Resolution\" in x[2] and \"~\" in x[2][\"Resolution\"]\n",
    "        else None\n",
    "    )\n",
    "    #کیفیت دوربین اصلی\n",
    "    df[\"Main Camera Quality\"] = df[\"Main Camera\"].apply(\n",
    "        lambda x: list(x[0].values())[0].split(\",\")[0]\n",
    "        if isinstance(x, list) and len(x) > 0 and isinstance(x[0], dict) else None\n",
    "    )\n",
    "    #کیفیت دوربین سلفی\n",
    "    df[\"Selfie Camera Quality\"] = df[\"Selfie camera\"].apply(\n",
    "        lambda x: list(x[0].values())[0].split(\",\")[0]\n",
    "        if isinstance(x, list) and len(x) > 0 and isinstance(x[0], dict) else None\n",
    "    )\n",
    "    # تعداد دوربین یک موبایل\n",
    "    def extract_camera_count(camera_info):\n",
    "        try:\n",
    "            camera_type = list(camera_info[0].keys())[0]\n",
    "            return {\"single\": 1, \"dual\": 2, \"triple\": 3, \"quad\": 4}.get(camera_type.lower(), 0)\n",
    "        except:\n",
    "            return None\n",
    "    df[\"Camera Count\"] = df[\"Main Camera\"].apply(\n",
    "        lambda x: extract_camera_count(x) if isinstance(x, list) and len(x) > 0 else None\n",
    "    )\n",
    "    '''\n",
    "    استخراج بیشترین فرکانس با رجکس\n",
    "    \\d+  به دنبال حداقل یک عدد میگردد\n",
    "    \\. به دنبال نقطه زیرا همه فرکانس ها به این صورت نوشته شده\n",
    "    \\d+  به دنبال دوباره یک عدد بعد از نقطه میگردد\n",
    "    '''\n",
    "    \n",
    "    def extract_max_frequency(cpu_info):\n",
    "        try:\n",
    "            frequencies = [float(freq[:-4]) for freq in re.findall(r\"\\d+\\.\\d+ GHz\", cpu_info)]\n",
    "            return max(frequencies) if frequencies else None\n",
    "        except:\n",
    "            return None\n",
    "    df[\"Max Frequency (GHz)\"] = df[\"Platform\"].apply(\n",
    "        lambda x: extract_max_frequency(x[2].get(\"CPU\"))\n",
    "        if isinstance(x, list) and len(x) > 2 and \"CPU\" in x[2] else None\n",
    "    )\n",
    "    \n",
    "    \"\"\"\n",
    "    استخراج معماری پردازنده با رجکس\n",
    "    که تا جایی که بررسی شد همراه با واژه CORTEX\n",
    "    A-Z به دنبال حروف انگلیسی از \n",
    "    0-9 به دنبال اعداد از \n",
    "    \"\"\"\n",
    "    \n",
    "    \n",
    "    def extract_architecture(cpu_info):\n",
    "        try:\n",
    "            architectures = re.findall(r\"Cortex-[A-Z0-9]+\", cpu_info)\n",
    "            return architectures if architectures else None\n",
    "        except:\n",
    "            return None\n",
    "    df[\"CPU Architecture\"] = df[\"Platform\"].apply(\n",
    "        lambda x: extract_architecture(x[2].get(\"CPU\"))\n",
    "        if isinstance(x, list) and len(x) > 2 and \"CPU\" in x[2] else None\n",
    "    )\n",
    "    # نام پردازنده\n",
    "    def extract_chipset_name(chipset_info):\n",
    "        return chipset_info.split(\"(\")[0].strip() if \"(\" in chipset_info else chipset_info\n",
    "    df[\"Chipset Name\"] = df[\"Platform\"].apply(\n",
    "        lambda x: extract_chipset_name(x[1].get(\"Chipset\"))\n",
    "        if isinstance(x, list) and len(x) > 1 and \"Chipset\" in x[1] else None\n",
    "    )\n",
    "    # برند تولیدی پردازنده\n",
    "    def extract_chipset_brand(chipset_info):\n",
    "        brands = [\"Qualcomm\", \"Apple\", \"MediaTek\", \"Exynos\"]\n",
    "        for brand in brands:\n",
    "            if brand in chipset_info:\n",
    "                return brand\n",
    "        return \"Other\"\n",
    "    df[\"Chipset Brand\"] = df[\"Platform\"].apply(\n",
    "        lambda x: extract_chipset_brand(x[1].get(\"Chipset\"))\n",
    "        if isinstance(x, list) and len(x) > 1 and \"Chipset\" in x[1] else None\n",
    "    )\n",
    "    # پردازنده چند نانومتری است\n",
    "    def extract_lithography(chipset_info):\n",
    "        match = re.search(r\"\\d+ nm\", chipset_info)\n",
    "        return int(match.group(0).split()[0]) if match else None\n",
    "    df[\"Lithography (nm)\"] = df[\"Platform\"].apply(\n",
    "        lambda x: extract_lithography(x[1].get(\"Chipset\"))\n",
    "        if isinstance(x, list) and len(x) > 1 and \"Chipset\" in x[1] else None\n",
    "    )\n",
    "    # بیشترین حافظه پردازنده\n",
    "    def extract_max_storage(internal_info):\n",
    "        storage_options = [int(capacity[:-2]) for capacity in re.findall(r'\\d+GB', internal_info)]\n",
    "        return max(storage_options) if storage_options else None\n",
    "    df[\"Max Storage (GB)\"] = df[\"Memory\"].apply(\n",
    "        lambda x: extract_max_storage(x[1].get(\"Internal\"))\n",
    "        if isinstance(x, list) and len(x) > 1 and \"Internal\" in x[1] else None\n",
    "    )\n",
    "    #استخراح بیشترین میزان رم\n",
    "    def extract_max_ram(internal_info):\n",
    "        ram_options = [int(capacity.split()[0][:-2]) for capacity in re.findall(r'\\d+GB RAM', internal_info)]\n",
    "        return max(ram_options) if ram_options else None\n",
    "    df[\"Max RAM (GB)\"] = df[\"Memory\"].apply(\n",
    "        lambda x: extract_max_ram(x[1].get(\"Internal\"))\n",
    "        if isinstance(x, list) and len(x) > 1 and \"Internal\" in x[1] else None\n",
    "    )\n",
    "\n",
    "    # ایا موبایل مجهز به بلوتوث است؟\n",
    "    def extract_bluetooth_version(comms_info):\n",
    "        for item in comms_info:\n",
    "            if \"Bluetooth\" in item:\n",
    "                version_match = re.search(r'\\d+(\\.\\d+)?', item.get(\"Bluetooth\"))\n",
    "                return float(version_match.group(0)) if version_match else None\n",
    "        return None\n",
    "    df[\"Bluetooth Version\"] = df[\"Comms\"].apply(\n",
    "        lambda x: extract_bluetooth_version(x) if isinstance(x, list) else None\n",
    "    )\n",
    "    # ایا قابلیت پخش صدای بلند دارد\n",
    "    df[\"Loudspeaker\"] = df[\"Sound\"].apply(\n",
    "        lambda x: \"Yes\" in x[0].get(\"Loudspeaker\")\n",
    "        if isinstance(x, list) and len(x) > 0 and \"Loudspeaker\" in x[0] else False\n",
    "    )\n",
    "    # سیستم عامل موبایل\n",
    "    df[\"OS\"] = df[\"Platform\"].apply(\n",
    "        lambda x: x[0].get(\"OS\")\n",
    "        if isinstance(x, list) and len(x) > 0 and \"OS\" in x[0] else None\n",
    "    )\n",
    "    \"\"\"\n",
    "    استخراج قیمت در این داده ها باید به چند صورت انجام شود\n",
    "    در بعضی از قیمت ها عدد به صورت روپیه هند ثبت شده بود\n",
    "    و چون موبایل ها از سال های قدیم انتخاب شده بود تا به الان\n",
    "    با محاسبه تورم هند نسبت به یورو نرخ تبدیل روپیه هند به یورو در حدود 0.125 در نظر گرفته شد\n",
    "    \n",
    "    اگر قیمت به صورت یورو ثبت شده باشد هم مستقیم استخراج شده\n",
    "\n",
    "    \"\"\"\n",
    "    def extract_price(misc_info):\n",
    "        try:\n",
    "            inr_to_eur = 0.0125\n",
    "\n",
    "            if isinstance(misc_info, list):\n",
    "                for item in misc_info:\n",
    "                    if isinstance(item, dict) and \"Price\" in item:\n",
    "                        price_str = item[\"Price\"]\n",
    "\n",
    "                       \n",
    "                        if \"About\" in price_str:\n",
    "                            if \"EUR\" in price_str:\n",
    "                                match = re.search(r\"\\d+\", price_str)\n",
    "                                return float(match.group()) if match else None\n",
    "                            elif \"INR\" in price_str:\n",
    "                                match = re.search(r\"\\d+\", price_str)\n",
    "                                return float(match.group()) * inr_to_eur if match else None\n",
    "\n",
    "                        if \"€\" in price_str:\n",
    "                            match = re.search(r\"€\\s*(\\d+\\.\\d+)\", price_str)\n",
    "                            return float(match.group(1)) if match else None\n",
    "\n",
    "                        elif \"₹\" in price_str:\n",
    "                            match = re.search(r\"₹\\s*([\\d,]+)\", price_str)\n",
    "                            if match:\n",
    "                                inr_price = float(match.group(1).replace(\",\", \"\"))\n",
    "                                return inr_price * inr_to_eur\n",
    "\n",
    "                        elif \"₹\" in price_str and \"/\" in price_str:\n",
    "                            match = re.search(r\"₹\\s*([\\d,]+)\", price_str)\n",
    "                            if match:\n",
    "                                inr_price = float(match.group(1).replace(\",\", \"\"))\n",
    "                                return inr_price * inr_to_eur\n",
    "\n",
    "            return None\n",
    "        except Exception as e:\n",
    "            return None\n",
    "    df[\"Price\"] = df[\"Misc\"].apply(lambda x: extract_price(x) if isinstance(x, list) else None)\n",
    "\n",
    "\n",
    "    return df"
   ]
  },
  {
   "cell_type": "code",
   "execution_count": 3,
   "metadata": {},
   "outputs": [],
   "source": [
    "def clean_body_features(df):\n",
    "    df[\"Length\"] = df[\"Length\"].apply(\n",
    "        lambda x: float(x) if isinstance(x, (int, float)) else float(x.split()[0]) if isinstance(x, str) and len(x.split()) > 0 and x.split()[0].isdigit() else None\n",
    "    )\n",
    "\n",
    "    df[\"Width\"] = df[\"Width\"].apply(\n",
    "        lambda x: float(x) if isinstance(x, (int, float)) else float(x.split()[0]) if isinstance(x, str) and len(x.split()) > 0 and x.split()[0].isdigit() else None\n",
    "    )\n",
    "\n",
    "    df[\"Diameter\"] = df[\"Diameter\"].apply(\n",
    "        lambda x: float(x) if isinstance(x, str) and x.replace(\".\", \"\").isdigit() else None\n",
    "    )\n",
    "    df[\"Weight\"] = df[\"Weight\"].apply(\n",
    "        lambda x: float(x.split()[0]) if isinstance(x, str) and len(x.split()) > 0 and x.split()[0].replace(\".\", \"\").isdigit() else None\n",
    "    )\n",
    "\n",
    "    return df"
   ]
  },
  {
   "cell_type": "markdown",
   "metadata": {},
   "source": [
    "## اعمال تابع بر روی تمامی برند های موبایل "
   ]
  },
  {
   "cell_type": "code",
   "execution_count": 4,
   "metadata": {
    "colab": {
     "base_uri": "https://localhost:8080/"
    },
    "id": "-VtxNZlMCk96",
    "outputId": "8aafca98-3242-4bc7-a9b9-bf46f93f5dc2"
   },
   "outputs": [],
   "source": [
    "df = pd.read_json(\"Sony_data.json\")\n",
    "df.reset_index(inplace=True)\n",
    "df.rename(columns={\"index\": \"name\"}, inplace=True)\n",
    "df['Sony158'] = df['Sony158'].fillna(df['Sony'])\n",
    "df.drop(columns=['Sony'], inplace=True)\n",
    "df_cleaned = pd.json_normalize(df['Sony158'])\n",
    "df = df_cleaned\n",
    "df = extract_features_from_dataset(df)\n",
    "sony = df.drop(columns=['Network', 'Launch', 'Body', 'Display', 'Platform', 'Memory',\n",
    "                      'Main Camera', 'Selfie camera', 'Sound', 'Comms', 'Features',\n",
    "                      'Battery', 'Misc', 'Tests', 'Unknown', 'Camera'])\n",
    "sony2 = clean_body_features(sony)\n",
    "sony2[\"brand\"] = \"sony\""
   ]
  },
  {
   "cell_type": "code",
   "execution_count": 5,
   "metadata": {
    "id": "s5m1b_42FtjV"
   },
   "outputs": [],
   "source": [
    "samsung = pd.read_json(\"Samsung_data.json\")\n",
    "\n",
    "samsung.reset_index(inplace=True)\n",
    "\n",
    "samsung.rename(columns={\"index\": \"name\"}, inplace=True)\n",
    "sam2 = pd.json_normalize(samsung['Samsung1383'])\n",
    "sam2 = extract_features_from_dataset(sam2)\n",
    "sam3 = sam2.drop(columns=['Network', 'Launch', 'Body', 'Display', 'Platform', 'Memory',\n",
    "                      'Main Camera', 'Selfie camera', 'Sound', 'Comms', 'Features',\n",
    "                      'Battery', 'Misc', 'Tests', 'Unknown', 'Camera'])\n",
    "sam4 = clean_body_features(sam3)\n",
    "sam4[\"brand\"] = \"samsung\""
   ]
  },
  {
   "cell_type": "code",
   "execution_count": 6,
   "metadata": {
    "id": "EEfr5nLQFt07"
   },
   "outputs": [],
   "source": [
    "alcatel = pd.read_json(\"Alcatel_data.json\")\n",
    "\n",
    "alcatel.reset_index(inplace=True)\n",
    "\n",
    "alcatel.rename(columns={\"index\": \"name\"}, inplace=True)\n",
    "\n",
    "alc2 = pd.json_normalize(alcatel['alcatel409'])\n",
    "\n",
    "alc2 = extract_features_from_dataset(alc2)\n",
    "\n",
    "alc3 = alc2.drop(columns=['Network', 'Launch', 'Body', 'Display', 'Platform', 'Memory',\n",
    "                      'Main Camera', 'Selfie camera', 'Sound', 'Comms', 'Features',\n",
    "                      'Battery', 'Misc', 'Tests', 'Camera'])\n",
    "alc4 = clean_body_features(alc3)\n",
    "\n",
    "alc4[\"brand\"] = \"Alcatel\""
   ]
  },
  {
   "cell_type": "code",
   "execution_count": 7,
   "metadata": {
    "id": "VxRYH-Me82ob"
   },
   "outputs": [],
   "source": [
    "apple = pd.read_json(\"Apple_data.json\")\n",
    "apple.reset_index(inplace=True)\n",
    "apple.rename(columns={\"index\": \"name\"}, inplace=True)\n",
    "app2 = pd.json_normalize(apple['Apple118'])\n",
    "app2 = extract_features_from_dataset(app2)\n",
    "app3 = app2.drop(columns=['Network', 'Launch', 'Body', 'Display', 'Platform', 'Memory',\n",
    "                      'Main Camera', 'Selfie camera', 'Sound', 'Comms', 'Features',\n",
    "                      'Battery', 'Misc', 'Tests','Unknown', 'Camera'])\n",
    "app4 = clean_body_features(app3)\n",
    "app4[\"brand\"] = \"Apple\""
   ]
  },
  {
   "cell_type": "code",
   "execution_count": 8,
   "metadata": {
    "id": "epBymmBfNDOf"
   },
   "outputs": [],
   "source": [
    "asus = pd.read_json(\"Asus_data.json\")\n",
    "asus.reset_index(inplace=True)\n",
    "asus.rename(columns={\"index\": \"name\"}, inplace=True)\n",
    "asu2 = pd.json_normalize(asus['Asus203'])\n",
    "asu2 = extract_features_from_dataset(asu2)\n",
    "asu3 = asu2.drop(columns=['Network', 'Launch', 'Body', 'Display', 'Platform', 'Memory',\n",
    "                      'Main Camera', 'Selfie camera', 'Sound', 'Comms', 'Features',\n",
    "                      'Battery', 'Misc', 'Tests','Unknown', 'Camera'])\n",
    "asu4 = clean_body_features(asu3)\n",
    "asu4[\"brand\"] = \"Asus\""
   ]
  },
  {
   "cell_type": "code",
   "execution_count": 9,
   "metadata": {
    "id": "AwFsTlulLYQt"
   },
   "outputs": [],
   "source": [
    "blu = pd.read_json(\"Blu_data.json\")\n",
    "blu.reset_index(inplace=True)\n",
    "blu.rename(columns={\"index\": \"name\"}, inplace=True)\n",
    "blu2 = pd.json_normalize(blu['BLU369'])\n",
    "blu2 = extract_features_from_dataset(blu2)\n",
    "blu3 = blu2.drop(columns=['Network', 'Launch', 'Body', 'Display', 'Platform', 'Memory',\n",
    "                      'Main Camera', 'Selfie camera', 'Sound', 'Comms', 'Features',\n",
    "                      'Battery', 'Misc','Camera'])\n",
    "blu4 = clean_body_features(blu3)\n",
    "blu4[\"brand\"] = \"Blu\""
   ]
  },
  {
   "cell_type": "code",
   "execution_count": 10,
   "metadata": {
    "id": "xD4eN-Z0MOfS"
   },
   "outputs": [],
   "source": [
    "htc = pd.read_json(\"HTC_data.json\")\n",
    "htc.reset_index(inplace=True)\n",
    "htc.rename(columns={\"index\": \"name\"}, inplace=True)\n",
    "htc2 = pd.json_normalize(htc['HTC287'])\n",
    "htc2 = extract_features_from_dataset(htc2)\n",
    "htc3 = htc2.drop(columns=['Network', 'Launch', 'Body', 'Display', 'Platform', 'Memory',\n",
    "                      'Main Camera', 'Selfie camera', 'Sound', 'Comms', 'Features',\n",
    "                      'Battery', 'Misc', 'Tests', 'Unknown'])\n",
    "htc4 = clean_body_features(htc3)\n",
    "htc4[\"brand\"] = \"Htc\""
   ]
  },
  {
   "cell_type": "code",
   "execution_count": 11,
   "metadata": {
    "id": "tsiryLVbMxpX"
   },
   "outputs": [],
   "source": [
    "hua = pd.read_json(\"Huawei_data.json\")\n",
    "hua.reset_index(inplace=True)\n",
    "hua.rename(columns={\"index\": \"name\"}, inplace=True)\n",
    "hua2 = pd.json_normalize(hua['Huawei441'])\n",
    "hua2 = extract_features_from_dataset(hua2)\n",
    "hua3 = hua2.drop(columns=['Network', 'Launch', 'Body', 'Display', 'Platform', 'Memory',\n",
    "                      'Main Camera', 'Selfie camera', 'Sound', 'Comms', 'Features',\n",
    "                      'Battery', 'Misc', 'Tests', 'Unknown', 'Camera'])\n",
    "hua4 = clean_body_features(hua3)\n",
    "hua4[\"brand\"] = \"Huawei\""
   ]
  },
  {
   "cell_type": "code",
   "execution_count": 12,
   "metadata": {
    "id": "LLtCMtCtMzP4"
   },
   "outputs": [],
   "source": [
    "inf = pd.read_json(\"Infinix_data.json\")\n",
    "inf.reset_index(inplace=True)\n",
    "inf.rename(columns={\"index\": \"name\"}, inplace=True)\n",
    "inf2 = pd.json_normalize(inf['Infinix125'])\n",
    "inf2 = extract_features_from_dataset(inf2)\n",
    "inf3 = inf2.drop(columns=['Network', 'Launch', 'Body', 'Display', 'Platform', 'Memory',\n",
    "                      'Main Camera', 'Selfie camera', 'Sound', 'Comms', 'Features',\n",
    "                      'Battery', 'Misc', 'Tests', 'Unknown'])\n",
    "inf4 = clean_body_features(inf3)\n",
    "inf4[\"brand\"] = \"Infinix\""
   ]
  },
  {
   "cell_type": "code",
   "execution_count": 13,
   "metadata": {
    "id": "REkuut_sRe0Y"
   },
   "outputs": [],
   "source": [
    "leno = pd.read_json(\"Lenovo_data.json\")\n",
    "leno.reset_index(inplace=True)\n",
    "leno.rename(columns={\"index\": \"name\"}, inplace=True)\n",
    "leno2 = pd.json_normalize(leno['Lenovo246'])\n",
    "leno2 = extract_features_from_dataset(leno2)\n",
    "leno3 = leno2.drop(columns=['Network', 'Launch', 'Body', 'Display', 'Platform', 'Memory',\n",
    "                      'Main Camera', 'Selfie camera', 'Sound', 'Comms', 'Features',\n",
    "                      'Battery', 'Misc', 'Tests', 'Camera'])\n",
    "leno4 = clean_body_features(leno3)\n",
    "leno4[\"brand\"] = \"Lenovo\""
   ]
  },
  {
   "cell_type": "code",
   "execution_count": 14,
   "metadata": {
    "id": "QtYZS74ATELU"
   },
   "outputs": [],
   "source": [
    "lg = pd.read_json(\"LG_data.json\")\n",
    "lg.reset_index(inplace=True)\n",
    "lg.rename(columns={\"index\": \"name\"}, inplace=True)\n",
    "lg2 = pd.json_normalize(lg['LG667'])\n",
    "lg2 = extract_features_from_dataset(lg2)\n",
    "lg3 = lg2.drop(columns=['Network', 'Launch', 'Body', 'Display', 'Platform', 'Memory',\n",
    "                      'Main Camera', 'Selfie camera', 'Sound', 'Comms', 'Features',\n",
    "                      'Battery', 'Misc', 'Tests','Camera'])\n",
    "lg4 = clean_body_features(lg3)\n",
    "lg4[\"brand\"] = \"LG\""
   ]
  },
  {
   "cell_type": "code",
   "execution_count": 15,
   "metadata": {
    "id": "dkvO1Zk3VLUM"
   },
   "outputs": [],
   "source": [
    "nok = pd.read_json(\"Nokia_data.json\")\n",
    "nok.reset_index(inplace=True)\n",
    "nok.rename(columns={\"index\": \"name\"}, inplace=True)\n",
    "nok2 = pd.json_normalize(nok['Nokia576'])\n",
    "nok2 = extract_features_from_dataset(nok2)\n",
    "nok3 = nok2.drop(columns=['Network', 'Launch', 'Body', 'Display', 'Platform', 'Memory',\n",
    "                      'Main Camera', 'Selfie camera', 'Sound', 'Comms', 'Features',\n",
    "                      'Battery', 'Misc', 'Tests', 'Unknown','Camera'])\n",
    "nok4 = clean_body_features(nok3)\n",
    "nok4[\"brand\"] = \"Nokia\""
   ]
  },
  {
   "cell_type": "code",
   "execution_count": 16,
   "metadata": {
    "id": "0kLVqLJNVxwz"
   },
   "outputs": [],
   "source": [
    "xia = pd.read_json(\"Xiaomi_data.json\")\n",
    "xia.reset_index(inplace=True)\n",
    "xia.rename(columns={\"index\": \"name\"}, inplace=True)\n",
    "xia2 = pd.json_normalize(xia['Xiaomi377'])\n",
    "xia2 = extract_features_from_dataset(xia2)\n",
    "xia3 = xia2.drop(columns=['Network', 'Launch', 'Body', 'Display', 'Platform', 'Memory',\n",
    "                      'Main Camera', 'Selfie camera', 'Sound', 'Comms', 'Features',\n",
    "                      'Battery', 'Misc', 'Tests', 'Unknown','Camera'])\n",
    "xia4 = clean_body_features(xia3)\n",
    "xia4[\"brand\"] = \"Xiaomi\""
   ]
  },
  {
   "cell_type": "code",
   "execution_count": 17,
   "metadata": {
    "id": "x9nxWrR-XCcy"
   },
   "outputs": [],
   "source": [
    "zte = pd.read_json(\"ZTE_data.json\")\n",
    "zte.reset_index(inplace=True)\n",
    "zte.rename(columns={\"index\": \"name\"}, inplace=True)\n",
    "zte2 = pd.json_normalize(zte['ZTE369'])\n",
    "zte2 = extract_features_from_dataset(zte2)\n",
    "zte3 = zte2.drop(columns=['Network', 'Launch', 'Body', 'Display', 'Platform', 'Memory',\n",
    "                      'Main Camera', 'Selfie camera', 'Sound', 'Comms', 'Features',\n",
    "                      'Battery', 'Misc', 'Tests', 'Unknown','Camera'])\n",
    "zte4 = clean_body_features(zte3)\n",
    "zte4[\"brand\"] = \"ZTE\""
   ]
  },
  {
   "cell_type": "code",
   "execution_count": 18,
   "metadata": {
    "id": "VGqU8chMZrIK"
   },
   "outputs": [],
   "source": [
    "final_df = pd.concat([sony2, sam4,alc4,app4,asu4,blu4,htc4,hua4,inf4,leno4,lg4,nok4,xia4,zte4], ignore_index=True)"
   ]
  },
  {
   "cell_type": "code",
   "execution_count": 19,
   "metadata": {
    "colab": {
     "base_uri": "https://localhost:8080/",
     "height": 17
    },
    "id": "GSjdAdlLbMQa",
    "outputId": "d3b15237-6572-40d6-dac9-f8783e216253"
   },
   "outputs": [],
   "source": [
    "final_df.to_csv('Phone4.csv', index=False)\n"
   ]
  }
 ],
 "metadata": {
  "colab": {
   "provenance": []
  },
  "kernelspec": {
   "display_name": "Python 3 (ipykernel)",
   "language": "python",
   "name": "python3"
  },
  "language_info": {
   "codemirror_mode": {
    "name": "ipython",
    "version": 3
   },
   "file_extension": ".py",
   "mimetype": "text/x-python",
   "name": "python",
   "nbconvert_exporter": "python",
   "pygments_lexer": "ipython3",
   "version": "3.11.5"
  },
  "varInspector": {
   "cols": {
    "lenName": 16,
    "lenType": 16,
    "lenVar": 40
   },
   "kernels_config": {
    "python": {
     "delete_cmd_postfix": "",
     "delete_cmd_prefix": "del ",
     "library": "var_list.py",
     "varRefreshCmd": "print(var_dic_list())"
    },
    "r": {
     "delete_cmd_postfix": ") ",
     "delete_cmd_prefix": "rm(",
     "library": "var_list.r",
     "varRefreshCmd": "cat(var_dic_list()) "
    }
   },
   "types_to_exclude": [
    "module",
    "function",
    "builtin_function_or_method",
    "instance",
    "_Feature"
   ],
   "window_display": false
  }
 },
 "nbformat": 4,
 "nbformat_minor": 1
}
