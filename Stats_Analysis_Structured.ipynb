{
 "cells": [
  {
   "cell_type": "markdown",
   "id": "53c65b89",
   "metadata": {},
   "source": [
    "# Data Loading"
   ]
  },
  {
   "cell_type": "code",
   "execution_count": null,
   "id": "3515b76f",
   "metadata": {},
   "outputs": [],
   "source": [
    "\n",
    "import pandas as pd\n",
    "import matplotlib.pyplot as plt\n",
    "import seaborn as sns\n",
    "import missingno as msno\n",
    "\n",
    "# Load datasets\n",
    "hbn_data = pd.read_csv('HBN.csv')\n",
    "data_dictionary = pd.read_csv('data_dictionary.csv')\n",
    "parquet_file_path = 'E:/programing/code/quera/first project/series.parquet'\n",
    "series_data = pd.read_parquet(parquet_file_path)\n"
   ]
  },
  {
   "cell_type": "markdown",
   "id": "804491b4",
   "metadata": {},
   "source": [
    "# Data Merging"
   ]
  },
  {
   "cell_type": "code",
   "execution_count": null,
   "id": "203b2924",
   "metadata": {},
   "outputs": [],
   "source": [
    "\n",
    "# Merge datasets on 'id'\n",
    "combined_data = pd.merge(hbn_data, series_data, on='id', how='left')\n"
   ]
  },
  {
   "cell_type": "markdown",
   "id": "7a6f1f73",
   "metadata": {},
   "source": [
    "# Data Overview"
   ]
  },
  {
   "cell_type": "code",
   "execution_count": null,
   "id": "9be6fa42",
   "metadata": {},
   "outputs": [],
   "source": [
    "\n",
    "# Display dataset info\n",
    "print(\"Dataset Info:\")\n",
    "print(hbn_data.info())\n"
   ]
  },
  {
   "cell_type": "markdown",
   "id": "36a25299",
   "metadata": {},
   "source": [
    "# Missing Data Visualization"
   ]
  },
  {
   "cell_type": "code",
   "execution_count": null,
   "id": "a14a5b87",
   "metadata": {},
   "outputs": [],
   "source": [
    "\n",
    "# Visualize missing data\n",
    "plt.figure(figsize=(10, 6))\n",
    "msno.matrix(hbn_data)\n",
    "plt.title(\"Missing Data Matrix\")\n",
    "plt.show()\n",
    "\n",
    "plt.figure(figsize=(10, 6))\n",
    "msno.heatmap(hbn_data)\n",
    "plt.title(\"Missing Data Heatmap\")\n",
    "plt.show()\n",
    "\n",
    "plt.figure(figsize=(10, 6))\n",
    "msno.bar(hbn_data)\n",
    "plt.title(\"Existing Data Barplot\")\n",
    "plt.show()\n"
   ]
  },
  {
   "cell_type": "markdown",
   "id": "edfe1789",
   "metadata": {},
   "source": [
    "# Exploratory Data Analysis - Distribution"
   ]
  },
  {
   "cell_type": "code",
   "execution_count": null,
   "id": "74f5ce49",
   "metadata": {},
   "outputs": [],
   "source": [
    "\n",
    "# Distribution of Age\n",
    "plt.figure(figsize=(8, 5))\n",
    "sns.histplot(hbn_data['Age'], kde=True, bins=20, color='blue')\n",
    "plt.title('Distribution of Age')\n",
    "plt.xlabel('Age')\n",
    "plt.ylabel('Frequency')\n",
    "plt.grid()\n",
    "plt.show()\n",
    "\n",
    "# Distribution of Gender\n",
    "plt.figure(figsize=(6, 4))\n",
    "sns.countplot(x='Sex', data=hbn_data, palette='Set2')\n",
    "plt.title('Gender Distribution')\n",
    "plt.xlabel('Sex (0 = Male, 1 = Female)')\n",
    "plt.ylabel('Count')\n",
    "plt.grid()\n",
    "plt.show()\n",
    "\n",
    "# Distribution of BMI\n",
    "plt.figure(figsize=(8, 5))\n",
    "sns.histplot(hbn_data['Physical-BMI'], kde=True, bins=20, color='green')\n",
    "plt.title('Distribution of Physical-BMI')\n",
    "plt.xlabel('BMI')\n",
    "plt.ylabel('Frequency')\n",
    "plt.grid()\n",
    "plt.show()\n"
   ]
  },
  {
   "cell_type": "markdown",
   "id": "3b6a5273",
   "metadata": {},
   "source": [
    "# Analysis by Gender"
   ]
  },
  {
   "cell_type": "code",
   "execution_count": null,
   "id": "23fbef90",
   "metadata": {},
   "outputs": [],
   "source": [
    "\n",
    "# Muscle Mass by Gender\n",
    "plt.figure(figsize=(8, 5))\n",
    "sns.boxplot(x='Sex', y='BIA-BIA_SMM', data=hbn_data, palette='Set2')\n",
    "plt.title('Muscle Mass by Gender')\n",
    "plt.xlabel('Gender (0 = Male, 1 = Female)')\n",
    "plt.ylabel('Skeletal Muscle Mass')\n",
    "plt.grid()\n",
    "plt.show()\n",
    "\n",
    "# Basal Metabolic Rate by Gender\n",
    "plt.figure(figsize=(8, 5))\n",
    "sns.boxplot(x='Sex', y='BIA-BIA_BMR', data=hbn_data, palette='Set1')\n",
    "plt.title('Basal Metabolic Rate (BMR) by Gender')\n",
    "plt.xlabel('Gender (0 = Male, 1 = Female)')\n",
    "plt.ylabel('BMR')\n",
    "plt.grid()\n",
    "plt.show()\n"
   ]
  },
  {
   "cell_type": "markdown",
   "id": "f9d6447c",
   "metadata": {},
   "source": [
    "# Sleep Disorder Analysis"
   ]
  },
  {
   "cell_type": "code",
   "execution_count": null,
   "id": "5db4756c",
   "metadata": {},
   "outputs": [],
   "source": [
    "\n",
    "# Categorize sleep disorder based on threshold\n",
    "combined_data['Sleep_Disorder'] = combined_data['SDS-SDS_Total_T'].apply(lambda x: 'No Disorder' if x <= 50 else 'Disorder')\n",
    "\n",
    "# Visualize Ambient Light by Sleep Disorder\n",
    "plt.figure(figsize=(8, 5))\n",
    "sns.boxplot(x='Sleep_Disorder', y='light', data=combined_data, palette='coolwarm')\n",
    "plt.title('Ambient Light Distribution by Sleep Disorder')\n",
    "plt.xlabel('Sleep Disorder Category')\n",
    "plt.ylabel('Average Ambient Light')\n",
    "plt.grid()\n",
    "plt.show()\n"
   ]
  },
  {
   "cell_type": "markdown",
   "id": "10aa82d2",
   "metadata": {},
   "source": [
    "# Correlation Matrix"
   ]
  },
  {
   "cell_type": "code",
   "execution_count": null,
   "id": "c6f7c61d",
   "metadata": {},
   "outputs": [],
   "source": [
    "\n",
    "correlation_columns = [\n",
    "    'Age', 'Physical-BMI', 'BIA-BIA_SMM', 'BIA-BIA_BMR',\n",
    "    'light', 'BIA-BIA_DEE', 'BIA-BIA_FFM', 'step', 'SDS-SDS_Total_T'\n",
    "]\n",
    "correlation_data = combined_data[correlation_columns].dropna()\n",
    "\n",
    "# Visualize correlation matrix\n",
    "plt.figure(figsize=(10, 8))\n",
    "sns.heatmap(correlation_data.corr(), annot=True, cmap='coolwarm', fmt=\".2f\")\n",
    "plt.title('Correlation Matrix of Key Variables')\n",
    "plt.show()\n"
   ]
  }
 ],
 "metadata": {},
 "nbformat": 4,
 "nbformat_minor": 5
}